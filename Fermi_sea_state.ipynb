{
 "cells": [
  {
   "cell_type": "markdown",
   "metadata": {},
   "source": [
    "## Here, we will write code to form the Filled fermi sea state\n"
   ]
  },
  {
   "cell_type": "code",
   "execution_count": 2,
   "metadata": {},
   "outputs": [
    {
     "name": "stdout",
     "output_type": "stream",
     "text": [
      "[ 0.43421011+0.41520328j -0.01982273-0.79917137j]\n",
      "[0.50427628-0.41218466j 0.75418697-0.08373325j]\n"
     ]
    },
    {
     "ename": "NameError",
     "evalue": "name 'execute' is not defined",
     "output_type": "error",
     "traceback": [
      "\u001b[0;31m---------------------------------------------------------------------------\u001b[0m",
      "\u001b[0;31mNameError\u001b[0m                                 Traceback (most recent call last)",
      "Cell \u001b[0;32mIn[2], line 30\u001b[0m\n\u001b[1;32m     27\u001b[0m qc\u001b[38;5;241m.\u001b[39mappend(init1, [\u001b[38;5;241m0\u001b[39m])\n\u001b[1;32m     28\u001b[0m qc\u001b[38;5;241m.\u001b[39mappend(init2, [\u001b[38;5;241m1\u001b[39m])\n\u001b[0;32m---> 30\u001b[0m plot_bloch_multivector(\u001b[43mviewstate\u001b[49m\u001b[43m(\u001b[49m\u001b[43mqc\u001b[49m\u001b[43m)\u001b[49m) \u001b[38;5;66;03m#Plot the state vectors on the bloch sphere\u001b[39;00m\n",
      "Cell \u001b[0;32mIn[2], line 19\u001b[0m, in \u001b[0;36mviewstate\u001b[0;34m(qc)\u001b[0m\n\u001b[1;32m     18\u001b[0m \u001b[38;5;28;01mdef\u001b[39;00m \u001b[38;5;21mviewstate\u001b[39m(qc):\n\u001b[0;32m---> 19\u001b[0m    result \u001b[38;5;241m=\u001b[39m \u001b[43mexecute\u001b[49m(qc, state_backend)\u001b[38;5;241m.\u001b[39mresult()\n\u001b[1;32m     20\u001b[0m    fstate \u001b[38;5;241m=\u001b[39m result\u001b[38;5;241m.\u001b[39mget_statevector()\n\u001b[1;32m     21\u001b[0m    \u001b[38;5;28mprint\u001b[39m(fstate) \u001b[38;5;66;03m# This will be the superposition state\u001b[39;00m\n",
      "\u001b[0;31mNameError\u001b[0m: name 'execute' is not defined"
     ]
    }
   ],
   "source": [
    "# Let u first understand how to writ coefficiens of a superposition state\n",
    "\n",
    "from qiskit import QuantumCircuit\n",
    "import qiskit_aer \n",
    "from qiskit.quantum_info.states.random import random_statevector\n",
    "from qiskit.circuit.library import Initialize\n",
    "from qiskit.visualization import plot_bloch_multivector\n",
    "\n",
    "state_backend = qiskit_aer.StatevectorSimulator()\n",
    "\n",
    "def initrstate(qc, label=\"\"):\n",
    "   state = random_statevector((2,1)).data\n",
    "   print(state) # if you want to see what state you have initialized the qubit to\n",
    "   init = Initialize(state)\n",
    "   init.label = label\n",
    "   return init\n",
    "\n",
    "def viewstate(qc):\n",
    "   result = execute(qc, state_backend).result()\n",
    "   fstate = result.get_statevector()\n",
    "   print(fstate) # This will be the superposition state\n",
    "   return fstate\n",
    "\n",
    "qc = QuantumCircuit(2)\n",
    "init1 = initrstate(qc)\n",
    "init2 = initrstate(qc)\n",
    "qc.append(init1, [0])\n",
    "qc.append(init2, [1])\n",
    "\n",
    "plot_bloch_multivector(viewstate(qc)) #Plot the state vectors on the bloch sphere\n"
   ]
  },
  {
   "cell_type": "code",
   "execution_count": 46,
   "metadata": {},
   "outputs": [
    {
     "name": "stdout",
     "output_type": "stream",
     "text": [
      "[-1.0471975511965976, 0.0]\n"
     ]
    }
   ],
   "source": [
    "# Let us first create the array for k values to be used\n",
    "import numpy as np\n",
    "\n",
    "\n",
    "def array_k(num_qubits):  #assuming num_qubits is even\n",
    "    array_k = []\n",
    "    m = num_qubits/2\n",
    "    if (m-1)%2!=0:\n",
    "        for j in range(-int((m-1)//2),int((m-1)//2) + 1):\n",
    "            array_k.append(2*np.pi*j/num_qubits)\n",
    "    else:\n",
    "        for j in range(-int((m-1)//2),int((m-1)//2)):\n",
    "            array_k.append(2*np.pi*j/num_qubits)\n",
    "    return array_k\n",
    "\n",
    "print(array_k(6))\n",
    "\n",
    "\n",
    "        \n",
    "\n"
   ]
  },
  {
   "cell_type": "code",
   "execution_count": 4,
   "metadata": {},
   "outputs": [],
   "source": [
    "num_qubits = 6"
   ]
  },
  {
   "cell_type": "code",
   "execution_count": 6,
   "metadata": {},
   "outputs": [
    {
     "name": "stdout",
     "output_type": "stream",
     "text": [
      "[[ 1. +0.00000000e+00j  0.5+8.66025404e-01j -0.5+8.66025404e-01j\n",
      "  -1. +1.22464680e-16j -0.5-8.66025404e-01j  0.5-8.66025404e-01j]\n",
      " [ 1. +0.00000000e+00j  1. +0.00000000e+00j  1. +0.00000000e+00j\n",
      "   1. +0.00000000e+00j  1. +0.00000000e+00j  1. +0.00000000e+00j]]\n"
     ]
    }
   ],
   "source": [
    "# Now we have an array, let us make the matrix on which we are going to store the proper k values\n",
    "\n",
    "coeff_array = []\n",
    "array_k = array_k(num_qubits)\n",
    "for k in array_k:\n",
    "    pos_list = []\n",
    "    for x in range(num_qubits):\n",
    "        pos_list.append(np.exp(-1j*k*x))\n",
    "    coeff_array.append(pos_list)\n",
    "\n",
    "coeff_array = np.array(coeff_array)\n",
    "print(coeff_array)\n"
   ]
  },
  {
   "cell_type": "code",
   "execution_count": 7,
   "metadata": {},
   "outputs": [
    {
     "data": {
      "text/plain": [
       "True"
      ]
     },
     "execution_count": 7,
     "metadata": {},
     "output_type": "execute_result"
    }
   ],
   "source": [
    "'0'<'5' #checking how sorting works in character strings"
   ]
  },
  {
   "cell_type": "code",
   "execution_count": 20,
   "metadata": {},
   "outputs": [
    {
     "name": "stdout",
     "output_type": "stream",
     "text": [
      "01237\n"
     ]
    }
   ],
   "source": [
    "def sort_bitstr(bitstr):\n",
    "    bit_array = []\n",
    "    for i in bitstr:\n",
    "        bit_array.append(i)\n",
    "    #print(bit_array)\n",
    "    bitstr_sorted = ''\n",
    "    for i in range(len(bit_array)):\n",
    "        bit_array[i] = int(bit_array[i])\n",
    "    bit_array.sort()\n",
    "    #print(bit_array)\n",
    "    for i in bit_array:\n",
    "        #print(i,str(i))\n",
    "        bitstr_sorted += str(i)\n",
    "        #print(bitstr_sorted)\n",
    "\n",
    "    return bitstr_sorted\n",
    "\n",
    "print(sort_bitstr('02317'))"
   ]
  },
  {
   "cell_type": "code",
   "execution_count": 23,
   "metadata": {},
   "outputs": [
    {
     "name": "stdout",
     "output_type": "stream",
     "text": [
      "-1\n"
     ]
    }
   ],
   "source": [
    "def hammingDist(str1, str2): \n",
    "    i = 0\n",
    "    count = 0\n",
    "  \n",
    "    while(i < len(str1)): \n",
    "        if(str1[i] != str2[i]): \n",
    "            count += 1\n",
    "        i += 1\n",
    "    return count \n",
    "\n",
    "def perm_str(bitstr,bitstr_sorted):\n",
    "    c = hammingDist(bitstr,bitstr_sorted)\n",
    "    if c%2 == 0:\n",
    "        if int(c/2)%2 == 0:\n",
    "            return 1\n",
    "        else:\n",
    "            return -1\n",
    "    else:\n",
    "        if int(c/2)%2 == 0:\n",
    "            return -1\n",
    "        else:\n",
    "            return 1\n",
    "    \n",
    "bitstr = '053214'\n",
    "bitstr_sorted = sort_bitstr(bitstr)\n",
    "\n",
    "print(perm_str(bitstr,bitstr_sorted))"
   ]
  },
  {
   "cell_type": "code",
   "execution_count": 29,
   "metadata": {},
   "outputs": [
    {
     "name": "stdout",
     "output_type": "stream",
     "text": [
      "{'01': (0.4999999999999999-0.8660254037844386j), '02': (1.4999999999999998-0.8660254037844387j), '03': (2-1.2246467991473532e-16j), '04': (1.5000000000000004+0.8660254037844385j), '05': (0.5000000000000007+0.866025403784439j), '12': (0.9999999999999999-1.1102230246251565e-16j), '13': (1.5+0.8660254037844385j), '14': (1.0000000000000004+1.7320508075688772j), '15': (7.771561172376096e-16+1.7320508075688776j), '23': (0.5000000000000002+0.8660254037844386j), '24': (6.661338147750939e-16+1.7320508075688772j), '25': (-0.9999999999999991+1.7320508075688776j), '34': (-0.49999999999999956+0.8660254037844386j), '35': (-1.4999999999999993+0.8660254037844392j), '45': (-0.9999999999999998+5.551115123125783e-16j)}\n"
     ]
    }
   ],
   "source": [
    "# Now we have the coefficient array, let us use recursive calls to form the dict\n",
    "\n",
    "m = int(num_qubits/2) # taking always even number of qubits\n",
    "l = 0  \n",
    "coeff_dict = {}\n",
    "def recursive_nested(l,coeff = 1,bitstr=''):\n",
    "    if l==m-2: # m-1, but we start with 0 indexing\n",
    "        coeff_copy = coeff  #to ensure multiplied coeffs in previous rounds is preserved and reused\n",
    "        bitstr_copy = bitstr\n",
    "        for i in range(num_qubits):\n",
    "            if str(i) in bitstr:\n",
    "                pass\n",
    "            else:\n",
    "                coeff = coeff*coeff_array[l,i]\n",
    "                bitstr = bitstr + f'{i}'\n",
    "                bitstr_sorted = sort_bitstr(bitstr) #to sort the string first\n",
    "                perm = perm_str(bitstr,bitstr_sorted) # to compare hamming distance\n",
    "                if bitstr_sorted in coeff_dict.keys():\n",
    "                    coeff_dict[bitstr_sorted]+=coeff*perm\n",
    "                else:\n",
    "                    coeff_dict[bitstr_sorted] = coeff*perm\n",
    "            bitstr = bitstr_copy\n",
    "            coeff = coeff_copy\n",
    "    if l!=m-2:\n",
    "        coeff_copy = coeff  #to ensure multiplied coeffs in previous rounds is preserved and reused\n",
    "        bitstr_copy = bitstr\n",
    "        for i in range(num_qubits):\n",
    "            if str(i) in bitstr:\n",
    "                pass\n",
    "            else:\n",
    "                #print(coeff)\n",
    "                coeff = coeff*coeff_array[l,i]\n",
    "                bitstr += str(i)\n",
    "                recursive_nested(l+1,coeff,bitstr)\n",
    "            bitstr = bitstr_copy\n",
    "            coeff = coeff_copy\n",
    "            \n",
    "\n",
    "\n",
    "recursive_nested(l)\n",
    "print(coeff_dict)"
   ]
  },
  {
   "cell_type": "code",
   "execution_count": 31,
   "metadata": {},
   "outputs": [
    {
     "name": "stdout",
     "output_type": "stream",
     "text": [
      "[(6.000000000000001+1.1102230246251565e-16j), (4.000000000000001+3.4641016151377544j), (2.0000000000000018+3.4641016151377544j), (2.000000000000001+3.464101615137755j), (1.0000000000000024+5.196152422706632j), (-2.9999999999999964+5.196152422706635j)]\n"
     ]
    }
   ],
   "source": [
    "#Now that we have got the dictionary of phases, we make a complex vector\n",
    "\n",
    "coeff_list = [0]*num_qubits\n",
    "for bstr in coeff_dict.keys():\n",
    "    for k in range(m-1):\n",
    "        coeff_list[int(bstr[k])]+= coeff_dict[bstr]\n",
    "\n",
    "print(coeff_list)"
   ]
  },
  {
   "cell_type": "code",
   "execution_count": 42,
   "metadata": {},
   "outputs": [],
   "source": [
    "# let us see if statevector initialization ensures normalization\n",
    "import qiskit\n",
    "from qiskit.quantum_info import Statevector\n"
   ]
  },
  {
   "cell_type": "code",
   "execution_count": 43,
   "metadata": {},
   "outputs": [
    {
     "name": "stdout",
     "output_type": "stream",
     "text": [
      "[[1 1]]\n"
     ]
    },
    {
     "data": {
      "text/plain": [
       "array([1.+0.j, 1.+0.j])"
      ]
     },
     "execution_count": 43,
     "metadata": {},
     "output_type": "execute_result"
    }
   ],
   "source": [
    "data = np.array([1,1]).reshape(1,2)\n",
    "print(data)\n",
    "sv = Statevector([1,1])\n",
    "sv.data"
   ]
  },
  {
   "cell_type": "code",
   "execution_count": 51,
   "metadata": {},
   "outputs": [
    {
     "name": "stdout",
     "output_type": "stream",
     "text": [
      "{'110000': (0.4999999999999999-0.8660254037844386j), '101000': (1.4999999999999998-0.8660254037844387j), '100100': (2-1.2246467991473532e-16j), '100010': (1.5000000000000004+0.8660254037844385j), '100001': (0.5000000000000007+0.866025403784439j), '011000': (0.9999999999999999-1.1102230246251565e-16j), '010100': (1.5+0.8660254037844385j), '010010': (1.0000000000000004+1.7320508075688772j), '010001': (7.771561172376096e-16+1.7320508075688776j), '001100': (0.5000000000000002+0.8660254037844386j), '001010': (6.661338147750939e-16+1.7320508075688772j), '001001': (-0.9999999999999991+1.7320508075688776j), '000110': (-0.49999999999999956+0.8660254037844386j), '000101': (-1.4999999999999993+0.8660254037844392j), '000011': (-0.9999999999999998+5.551115123125783e-16j)}\n"
     ]
    }
   ],
   "source": [
    "#let us normalize our vector\n",
    "\n",
    "phase_array = np.array(coeff_list)\n",
    "phase_array = phase_array/np.linalg.norm(phase_array)\n",
    "\n",
    "# to use state vector formalism, we need to initialize bitstrings\n",
    "bitstr_dict = {}\n",
    "for bstr in coeff_dict.keys():\n",
    "    vac_str = ''\n",
    "    num_list = []\n",
    "    for k in range(m-1):\n",
    "        num_list.append(int(bstr[k]))\n",
    "\n",
    "    for i in range(num_qubits):\n",
    "        if i in num_list:\n",
    "            vac_str += '1'\n",
    "        else:\n",
    "            vac_str += '0'\n",
    "    bitstr_dict[vac_str] = coeff_dict[bstr]\n",
    "\n",
    "print(bitstr_dict)\n",
    "\n",
    "\n",
    "\n"
   ]
  },
  {
   "cell_type": "code",
   "execution_count": 59,
   "metadata": {},
   "outputs": [
    {
     "name": "stdout",
     "output_type": "stream",
     "text": [
      "Statevector([ 0.00000000e+00+0.00000000e+00j,\n",
      "              0.00000000e+00+0.00000000e+00j,\n",
      "              0.00000000e+00+0.00000000e+00j,\n",
      "             -1.66666667e-01+9.25185854e-17j,\n",
      "              0.00000000e+00+0.00000000e+00j,\n",
      "             -2.50000000e-01+1.44337567e-01j,\n",
      "             -8.33333333e-02+1.44337567e-01j,\n",
      "              0.00000000e+00+0.00000000e+00j,\n",
      "              0.00000000e+00+0.00000000e+00j,\n",
      "             -1.66666667e-01+2.88675135e-01j,\n",
      "              1.11022302e-16+2.88675135e-01j,\n",
      "              0.00000000e+00+0.00000000e+00j,\n",
      "              8.33333333e-02+1.44337567e-01j,\n",
      "              0.00000000e+00+0.00000000e+00j,\n",
      "              0.00000000e+00+0.00000000e+00j,\n",
      "              0.00000000e+00+0.00000000e+00j,\n",
      "              0.00000000e+00+0.00000000e+00j,\n",
      "              1.29526020e-16+2.88675135e-01j,\n",
      "              1.66666667e-01+2.88675135e-01j,\n",
      "              0.00000000e+00+0.00000000e+00j,\n",
      "              2.50000000e-01+1.44337567e-01j,\n",
      "              0.00000000e+00+0.00000000e+00j,\n",
      "              0.00000000e+00+0.00000000e+00j,\n",
      "              0.00000000e+00+0.00000000e+00j,\n",
      "              1.66666667e-01-1.85037171e-17j,\n",
      "              0.00000000e+00+0.00000000e+00j,\n",
      "              0.00000000e+00+0.00000000e+00j,\n",
      "              0.00000000e+00+0.00000000e+00j,\n",
      "              0.00000000e+00+0.00000000e+00j,\n",
      "              0.00000000e+00+0.00000000e+00j,\n",
      "              0.00000000e+00+0.00000000e+00j,\n",
      "              0.00000000e+00+0.00000000e+00j,\n",
      "              0.00000000e+00+0.00000000e+00j,\n",
      "              8.33333333e-02+1.44337567e-01j,\n",
      "              2.50000000e-01+1.44337567e-01j,\n",
      "              0.00000000e+00+0.00000000e+00j,\n",
      "              3.33333333e-01-2.04107800e-17j,\n",
      "              0.00000000e+00+0.00000000e+00j,\n",
      "              0.00000000e+00+0.00000000e+00j,\n",
      "              0.00000000e+00+0.00000000e+00j,\n",
      "              2.50000000e-01-1.44337567e-01j,\n",
      "              0.00000000e+00+0.00000000e+00j,\n",
      "              0.00000000e+00+0.00000000e+00j,\n",
      "              0.00000000e+00+0.00000000e+00j,\n",
      "              0.00000000e+00+0.00000000e+00j,\n",
      "              0.00000000e+00+0.00000000e+00j,\n",
      "              0.00000000e+00+0.00000000e+00j,\n",
      "              0.00000000e+00+0.00000000e+00j,\n",
      "              8.33333333e-02-1.44337567e-01j,\n",
      "              0.00000000e+00+0.00000000e+00j,\n",
      "              0.00000000e+00+0.00000000e+00j,\n",
      "              0.00000000e+00+0.00000000e+00j,\n",
      "              0.00000000e+00+0.00000000e+00j,\n",
      "              0.00000000e+00+0.00000000e+00j,\n",
      "              0.00000000e+00+0.00000000e+00j,\n",
      "              0.00000000e+00+0.00000000e+00j,\n",
      "              0.00000000e+00+0.00000000e+00j,\n",
      "              0.00000000e+00+0.00000000e+00j,\n",
      "              0.00000000e+00+0.00000000e+00j,\n",
      "              0.00000000e+00+0.00000000e+00j,\n",
      "              0.00000000e+00+0.00000000e+00j,\n",
      "              0.00000000e+00+0.00000000e+00j,\n",
      "              0.00000000e+00+0.00000000e+00j,\n",
      "              0.00000000e+00+0.00000000e+00j],\n",
      "            dims=(2, 2, 2, 2, 2, 2))\n"
     ]
    },
    {
     "data": {
      "text/plain": [
       "True"
      ]
     },
     "execution_count": 59,
     "metadata": {},
     "output_type": "execute_result"
    }
   ],
   "source": [
    "fermi_state = Statevector([0]*(2**num_qubits))\n",
    "\n",
    "for bstr in bitstr_dict.keys():\n",
    "    fermi_state += Statevector.from_label(bstr)*bitstr_dict[bstr]\n",
    "\n",
    "val_array = []\n",
    "for i in bitstr_dict.values():\n",
    "    val_array.append(i)\n",
    "val_array = np.array(val_array)\n",
    "#print(val_array)\n",
    "#print(np.linalg.norm(val_array))\n",
    "fermi_state = fermi_state/np.linalg.norm(val_array)\n",
    "print(fermi_state)\n",
    "fermi_state.is_valid()"
   ]
  },
  {
   "cell_type": "code",
   "execution_count": 47,
   "metadata": {},
   "outputs": [],
   "source": [
    "from qiskit import QuantumCircuit\n",
    "import qiskit_aer \n",
    "from qiskit.quantum_info.states.random import random_statevector\n",
    "from qiskit.circuit.library import Initialize\n",
    "from qiskit.visualization import plot_bloch_multivector"
   ]
  },
  {
   "cell_type": "code",
   "execution_count": 61,
   "metadata": {},
   "outputs": [
    {
     "data": {
      "image/png": "[encoded data removed]",
      "text/plain": [
       "<Figure size 1040x535.111 with 1 Axes>"
      ]
     },
     "execution_count": 61,
     "metadata": {},
     "output_type": "execute_result"
    }
   ],
   "source": [
    "qc = QuantumCircuit(num_qubits)\n",
    "qc.initialize(fermi_state)\n",
    "\n",
    "qc.draw(output = 'mpl')"
   ]
  }
 ],
 "metadata": {
  "kernelspec": {
   "display_name": "qiskitenv",
   "language": "python",
   "name": "python3"
  },
  "language_info": {
   "codemirror_mode": {
    "name": "ipython",
    "version": 3
   },
   "file_extension": ".py",
   "mimetype": "text/x-python",
   "name": "python",
   "nbconvert_exporter": "python",
   "pygments_lexer": "ipython3",
   "version": "3.12.3"
  }
 },
 "nbformat": 4,
 "nbformat_minor": 2
}
