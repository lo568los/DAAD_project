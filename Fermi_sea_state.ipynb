{
 "cells": [
  {
   "cell_type": "markdown",
   "metadata": {},
   "source": [
    "## Here, we will write code to form the Filled fermi sea state\n"
   ]
  },
  {
   "cell_type": "code",
   "execution_count": 2,
   "metadata": {},
   "outputs": [
    {
     "name": "stdout",
     "output_type": "stream",
     "text": [
      "[ 0.43421011+0.41520328j -0.01982273-0.79917137j]\n",
      "[0.50427628-0.41218466j 0.75418697-0.08373325j]\n"
     ]
    },
    {
     "ename": "NameError",
     "evalue": "name 'execute' is not defined",
     "output_type": "error",
     "traceback": [
      "\u001b[0;31m---------------------------------------------------------------------------\u001b[0m",
      "\u001b[0;31mNameError\u001b[0m                                 Traceback (most recent call last)",
      "Cell \u001b[0;32mIn[2], line 30\u001b[0m\n\u001b[1;32m     27\u001b[0m qc\u001b[38;5;241m.\u001b[39mappend(init1, [\u001b[38;5;241m0\u001b[39m])\n\u001b[1;32m     28\u001b[0m qc\u001b[38;5;241m.\u001b[39mappend(init2, [\u001b[38;5;241m1\u001b[39m])\n\u001b[0;32m---> 30\u001b[0m plot_bloch_multivector(\u001b[43mviewstate\u001b[49m\u001b[43m(\u001b[49m\u001b[43mqc\u001b[49m\u001b[43m)\u001b[49m) \u001b[38;5;66;03m#Plot the state vectors on the bloch sphere\u001b[39;00m\n",
      "Cell \u001b[0;32mIn[2], line 19\u001b[0m, in \u001b[0;36mviewstate\u001b[0;34m(qc)\u001b[0m\n\u001b[1;32m     18\u001b[0m \u001b[38;5;28;01mdef\u001b[39;00m \u001b[38;5;21mviewstate\u001b[39m(qc):\n\u001b[0;32m---> 19\u001b[0m    result \u001b[38;5;241m=\u001b[39m \u001b[43mexecute\u001b[49m(qc, state_backend)\u001b[38;5;241m.\u001b[39mresult()\n\u001b[1;32m     20\u001b[0m    fstate \u001b[38;5;241m=\u001b[39m result\u001b[38;5;241m.\u001b[39mget_statevector()\n\u001b[1;32m     21\u001b[0m    \u001b[38;5;28mprint\u001b[39m(fstate) \u001b[38;5;66;03m# This will be the superposition state\u001b[39;00m\n",
      "\u001b[0;31mNameError\u001b[0m: name 'execute' is not defined"
     ]
    }
   ],
   "source": [
    "# Let u first understand how to writ coefficiens of a superposition state\n",
    "\n",
    "from qiskit import QuantumCircuit\n",
    "import qiskit_aer \n",
    "from qiskit.quantum_info.states.random import random_statevector\n",
    "from qiskit.circuit.library import Initialize\n",
    "from qiskit.visualization import plot_bloch_multivector\n",
    "\n",
    "state_backend = qiskit_aer.StatevectorSimulator()\n",
    "\n",
    "def initrstate(qc, label=\"\"):\n",
    "   state = random_statevector((2,1)).data\n",
    "   print(state) # if you want to see what state you have initialized the qubit to\n",
    "   init = Initialize(state)\n",
    "   init.label = label\n",
    "   return init\n",
    "\n",
    "def viewstate(qc):\n",
    "   result = execute(qc, state_backend).result()\n",
    "   fstate = result.get_statevector()\n",
    "   print(fstate) # This will be the superposition state\n",
    "   return fstate\n",
    "\n",
    "qc = QuantumCircuit(2)\n",
    "init1 = initrstate(qc)\n",
    "init2 = initrstate(qc)\n",
    "qc.append(init1, [0])\n",
    "qc.append(init2, [1])\n",
    "\n",
    "plot_bloch_multivector(viewstate(qc)) #Plot the state vectors on the bloch sphere\n"
   ]
  },
  {
   "cell_type": "code",
   "execution_count": 52,
   "metadata": {},
   "outputs": [
    {
     "name": "stdout",
     "output_type": "stream",
     "text": [
      "[-1.5707963267948966, -0.7853981633974483, 0.0, 0.7853981633974483]\n"
     ]
    }
   ],
   "source": [
    "# Let us first create the array for k values to be used\n",
    "import numpy as np\n",
    "\n",
    "\n",
    "def array_k(num_qubits):  #assuming num_qubits is even\n",
    "    array_k = []\n",
    "    m = num_qubits/2\n",
    "    if (m)%2!=0: #replace with m-1 for previous results\n",
    "        for j in range(-int((m)//2),int((m)//2) + 1): #replace with m-1 for previous results\n",
    "            array_k.append(2*np.pi*j/num_qubits)\n",
    "    else:\n",
    "        for j in range(-int((m)//2),int((m)//2)):\n",
    "            array_k.append(2*np.pi*j/num_qubits)\n",
    "    return array_k\n",
    "\n",
    "print(array_k(8))\n",
    "\n",
    "\n",
    "        \n",
    "\n"
   ]
  },
  {
   "cell_type": "code",
   "execution_count": 29,
   "metadata": {},
   "outputs": [],
   "source": [
    "num_qubits = 6"
   ]
  },
  {
   "cell_type": "code",
   "execution_count": 30,
   "metadata": {},
   "outputs": [
    {
     "name": "stdout",
     "output_type": "stream",
     "text": [
      "[[ 1. +0.00000000e+00j  0.5+8.66025404e-01j -0.5+8.66025404e-01j\n",
      "  -1. +1.22464680e-16j -0.5-8.66025404e-01j  0.5-8.66025404e-01j]\n",
      " [ 1. +0.00000000e+00j  1. +0.00000000e+00j  1. +0.00000000e+00j\n",
      "   1. +0.00000000e+00j  1. +0.00000000e+00j  1. +0.00000000e+00j]\n",
      " [ 1. +0.00000000e+00j  0.5-8.66025404e-01j -0.5-8.66025404e-01j\n",
      "  -1. -1.22464680e-16j -0.5+8.66025404e-01j  0.5+8.66025404e-01j]]\n"
     ]
    }
   ],
   "source": [
    "# Now we have an array, let us make the matrix on which we are going to store the proper k values\n",
    "\n",
    "coeff_array = []\n",
    "array_k = array_k(num_qubits)\n",
    "for k in array_k:\n",
    "    pos_list = []\n",
    "    for x in range(num_qubits):\n",
    "        pos_list.append(np.exp(-1j*k*x))\n",
    "    coeff_array.append(pos_list)\n",
    "\n",
    "coeff_array = np.array(coeff_array)\n",
    "print(coeff_array)\n"
   ]
  },
  {
   "cell_type": "code",
   "execution_count": 31,
   "metadata": {},
   "outputs": [
    {
     "data": {
      "text/plain": [
       "True"
      ]
     },
     "execution_count": 31,
     "metadata": {},
     "output_type": "execute_result"
    }
   ],
   "source": [
    "'0'<'5' #checking how sorting works in character strings"
   ]
  },
  {
   "cell_type": "code",
   "execution_count": 32,
   "metadata": {},
   "outputs": [
    {
     "name": "stdout",
     "output_type": "stream",
     "text": [
      "01237\n"
     ]
    }
   ],
   "source": [
    "def sort_bitstr(bitstr):\n",
    "    bit_array = []\n",
    "    for i in bitstr:\n",
    "        bit_array.append(i)\n",
    "    #print(bit_array)\n",
    "    bitstr_sorted = ''\n",
    "    for i in range(len(bit_array)):\n",
    "        bit_array[i] = int(bit_array[i])\n",
    "    bit_array.sort()\n",
    "    #print(bit_array)\n",
    "    for i in bit_array:\n",
    "        #print(i,str(i))\n",
    "        bitstr_sorted += str(i)\n",
    "        #print(bitstr_sorted)\n",
    "\n",
    "    return bitstr_sorted\n",
    "\n",
    "print(sort_bitstr('02317'))"
   ]
  },
  {
   "cell_type": "code",
   "execution_count": 33,
   "metadata": {},
   "outputs": [
    {
     "name": "stdout",
     "output_type": "stream",
     "text": [
      "-1\n"
     ]
    }
   ],
   "source": [
    "def hammingDist(str1, str2): \n",
    "    i = 0\n",
    "    count = 0\n",
    "  \n",
    "    while(i < len(str1)): \n",
    "        if(str1[i] != str2[i]): \n",
    "            count += 1\n",
    "        i += 1\n",
    "    return count \n",
    "\n",
    "def perm_str(bitstr,bitstr_sorted):\n",
    "    c = hammingDist(bitstr,bitstr_sorted)\n",
    "    if c%2 == 0:\n",
    "        if int(c/2)%2 == 0:\n",
    "            return 1\n",
    "        else:\n",
    "            return -1\n",
    "    else:\n",
    "        if int(c/2)%2 == 0:\n",
    "            return -1\n",
    "        else:\n",
    "            return 1\n",
    "    \n",
    "bitstr = '053214'\n",
    "bitstr_sorted = sort_bitstr(bitstr)\n",
    "\n",
    "print(perm_str(bitstr,bitstr_sorted))"
   ]
  },
  {
   "cell_type": "code",
   "execution_count": 35,
   "metadata": {},
   "outputs": [
    {
     "name": "stdout",
     "output_type": "stream",
     "text": [
      "{'012': (-1.1102230246251565e-16+1.7320508075688772j), '013': (1.1102230246251565e-16+3.464101615137755j), '014': (1.1102230246251565e-16+3.464101615137755j), '015': 1.7320508075688785j, '023': (1.1102230246251565e-16+3.4641016151377544j), '024': 5.196152422706632j, '025': 3.464101615137756j, '034': (-1.1102230246251565e-16+3.464101615137754j), '035': (-1.1102230246251565e-16+3.464101615137756j), '045': 1.7320508075688785j, '123': (-1.1102230246251565e-16+1.7320508075688772j), '124': 3.464101615137754j, '125': 3.464101615137755j, '134': 3.4641016151377535j, '135': 5.196152422706632j, '145': 3.464101615137755j, '234': 1.7320508075688763j, '235': 3.464101615137754j, '245': (2.220446049250313e-16+3.464101615137754j), '345': 1.7320508075688763j}\n"
     ]
    }
   ],
   "source": [
    "# Now we have the coefficient array, let us use recursive calls to form the dict\n",
    "\n",
    "m = int(num_qubits/2) # taking always even number of qubits\n",
    "l = 0  \n",
    "coeff_dict = {}\n",
    "def recursive_nested(l,coeff = 1,bitstr=''):\n",
    "    if l==m-1: # m-1, but we start with 0 indexing\n",
    "        coeff_copy = coeff  #to ensure multiplied coeffs in previous rounds is preserved and reused\n",
    "        bitstr_copy = bitstr\n",
    "        for i in range(num_qubits):\n",
    "            if str(i) in bitstr:\n",
    "                pass\n",
    "            else:\n",
    "                coeff = coeff*coeff_array[l,i]\n",
    "                bitstr = bitstr + f'{i}'\n",
    "                bitstr_sorted = sort_bitstr(bitstr) #to sort the string first\n",
    "                perm = perm_str(bitstr,bitstr_sorted) # to compare hamming distance\n",
    "                if bitstr_sorted in coeff_dict.keys():\n",
    "                    coeff_dict[bitstr_sorted]+=coeff*perm\n",
    "                else:\n",
    "                    coeff_dict[bitstr_sorted] = coeff*perm\n",
    "            bitstr = bitstr_copy\n",
    "            coeff = coeff_copy\n",
    "    if l!=m-1:\n",
    "        coeff_copy = coeff  #to ensure multiplied coeffs in previous rounds is preserved and reused\n",
    "        bitstr_copy = bitstr\n",
    "        for i in range(num_qubits):\n",
    "            if str(i) in bitstr:\n",
    "                pass\n",
    "            else:\n",
    "                #print(coeff)\n",
    "                coeff = coeff*coeff_array[l,i]\n",
    "                bitstr += str(i)\n",
    "                recursive_nested(l+1,coeff,bitstr)\n",
    "            bitstr = bitstr_copy\n",
    "            coeff = coeff_copy\n",
    "            \n",
    "\n",
    "\n",
    "recursive_nested(l)\n",
    "print(coeff_dict)"
   ]
  },
  {
   "cell_type": "code",
   "execution_count": 36,
   "metadata": {},
   "outputs": [
    {
     "name": "stdout",
     "output_type": "stream",
     "text": [
      "[31.1769145362398j, 31.17691453623979j, (2.220446049250313e-16+29.44486372867091j), (-2.220446049250313e-16+22.5166604983954j), (2.220446049250313e-16+10.392304845413264j), 0]\n"
     ]
    }
   ],
   "source": [
    "#Now that we have got the dictionary of phases, we make a complex vector\n",
    "\n",
    "coeff_list = [0]*num_qubits\n",
    "for bstr in coeff_dict.keys():\n",
    "    for k in range(m-1):\n",
    "        coeff_list[int(bstr[k])]+= coeff_dict[bstr]\n",
    "\n",
    "print(coeff_list)"
   ]
  },
  {
   "cell_type": "code",
   "execution_count": 37,
   "metadata": {},
   "outputs": [],
   "source": [
    "# let us see if statevector initialization ensures normalization\n",
    "import qiskit\n",
    "from qiskit.quantum_info import Statevector\n"
   ]
  },
  {
   "cell_type": "code",
   "execution_count": 38,
   "metadata": {},
   "outputs": [
    {
     "name": "stdout",
     "output_type": "stream",
     "text": [
      "[[1 1]]\n"
     ]
    },
    {
     "data": {
      "text/plain": [
       "array([1.+0.j, 1.+0.j])"
      ]
     },
     "execution_count": 38,
     "metadata": {},
     "output_type": "execute_result"
    }
   ],
   "source": [
    "data = np.array([1,1]).reshape(1,2)\n",
    "print(data)\n",
    "sv = Statevector([1,1])\n",
    "sv.data"
   ]
  },
  {
   "cell_type": "code",
   "execution_count": 45,
   "metadata": {},
   "outputs": [
    {
     "name": "stdout",
     "output_type": "stream",
     "text": [
      "{'111000': (-1.1102230246251565e-16+1.7320508075688772j), '110100': (1.1102230246251565e-16+3.464101615137755j), '110010': (1.1102230246251565e-16+3.464101615137755j), '110001': 1.7320508075688785j, '101100': (1.1102230246251565e-16+3.4641016151377544j), '101010': 5.196152422706632j, '101001': 3.464101615137756j, '100110': (-1.1102230246251565e-16+3.464101615137754j), '100101': (-1.1102230246251565e-16+3.464101615137756j), '100011': 1.7320508075688785j, '011100': (-1.1102230246251565e-16+1.7320508075688772j), '011010': 3.464101615137754j, '011001': 3.464101615137755j, '010110': 3.4641016151377535j, '010101': 5.196152422706632j, '010011': 3.464101615137755j, '001110': 1.7320508075688763j, '001101': 3.464101615137754j, '001011': (2.220446049250313e-16+3.464101615137754j), '000111': 1.7320508075688763j}\n"
     ]
    }
   ],
   "source": [
    "#let us normalize our vector\n",
    "\n",
    "phase_array = np.array(coeff_list)\n",
    "phase_array = phase_array/np.linalg.norm(phase_array)\n",
    "\n",
    "# to use state vector formalism, we need to initialize bitstrings\n",
    "bitstr_dict = {}\n",
    "for bstr in coeff_dict.keys():\n",
    "    vac_str = ''\n",
    "    num_list = []\n",
    "    for k in range(m):\n",
    "        num_list.append(int(bstr[k]))\n",
    "\n",
    "    for i in range(num_qubits):\n",
    "        if i in num_list:\n",
    "            vac_str += '1'\n",
    "        else:\n",
    "            vac_str += '0'\n",
    "    bitstr_dict[vac_str] = coeff_dict[bstr]\n",
    "\n",
    "print(bitstr_dict)\n",
    "\n",
    "\n",
    "\n"
   ]
  },
  {
   "cell_type": "code",
   "execution_count": 53,
   "metadata": {},
   "outputs": [
    {
     "name": "stdout",
     "output_type": "stream",
     "text": [
      "14.696938456699069\n",
      "Statevector([ 0.00000000e+00+0.j        ,  0.00000000e+00+0.j        ,\n",
      "              0.00000000e+00+0.j        ,  0.00000000e+00+0.j        ,\n",
      "              0.00000000e+00+0.j        ,  0.00000000e+00+0.j        ,\n",
      "              0.00000000e+00+0.j        ,  0.00000000e+00+0.11785113j,\n",
      "              0.00000000e+00+0.j        ,  0.00000000e+00+0.j        ,\n",
      "              0.00000000e+00+0.j        ,  1.51082217e-17+0.23570226j,\n",
      "              0.00000000e+00+0.j        ,  0.00000000e+00+0.23570226j,\n",
      "              0.00000000e+00+0.11785113j,  0.00000000e+00+0.j        ,\n",
      "              0.00000000e+00+0.j        ,  0.00000000e+00+0.j        ,\n",
      "              0.00000000e+00+0.j        ,  0.00000000e+00+0.23570226j,\n",
      "              0.00000000e+00+0.j        ,  0.00000000e+00+0.35355339j,\n",
      "              0.00000000e+00+0.23570226j,  0.00000000e+00+0.j        ,\n",
      "              0.00000000e+00+0.j        ,  0.00000000e+00+0.23570226j,\n",
      "              0.00000000e+00+0.23570226j,  0.00000000e+00+0.j        ,\n",
      "             -7.55411086e-18+0.11785113j,  0.00000000e+00+0.j        ,\n",
      "              0.00000000e+00+0.j        ,  0.00000000e+00+0.j        ,\n",
      "              0.00000000e+00+0.j        ,  0.00000000e+00+0.j        ,\n",
      "              0.00000000e+00+0.j        ,  0.00000000e+00+0.11785113j,\n",
      "              0.00000000e+00+0.j        , -7.55411086e-18+0.23570226j,\n",
      "             -7.55411086e-18+0.23570226j,  0.00000000e+00+0.j        ,\n",
      "              0.00000000e+00+0.j        ,  0.00000000e+00+0.23570226j,\n",
      "              0.00000000e+00+0.35355339j,  0.00000000e+00+0.j        ,\n",
      "              7.55411086e-18+0.23570226j,  0.00000000e+00+0.j        ,\n",
      "              0.00000000e+00+0.j        ,  0.00000000e+00+0.j        ,\n",
      "              0.00000000e+00+0.j        ,  0.00000000e+00+0.11785113j,\n",
      "              7.55411086e-18+0.23570226j,  0.00000000e+00+0.j        ,\n",
      "              7.55411086e-18+0.23570226j,  0.00000000e+00+0.j        ,\n",
      "              0.00000000e+00+0.j        ,  0.00000000e+00+0.j        ,\n",
      "             -7.55411086e-18+0.11785113j,  0.00000000e+00+0.j        ,\n",
      "              0.00000000e+00+0.j        ,  0.00000000e+00+0.j        ,\n",
      "              0.00000000e+00+0.j        ,  0.00000000e+00+0.j        ,\n",
      "              0.00000000e+00+0.j        ,  0.00000000e+00+0.j        ],\n",
      "            dims=(2, 2, 2, 2, 2, 2))\n"
     ]
    },
    {
     "data": {
      "text/plain": [
       "True"
      ]
     },
     "execution_count": 53,
     "metadata": {},
     "output_type": "execute_result"
    }
   ],
   "source": [
    "fermi_state = Statevector([0]*(2**num_qubits))\n",
    "\n",
    "for bstr in bitstr_dict.keys():\n",
    "    fermi_state += Statevector.from_label(bstr)*bitstr_dict[bstr]\n",
    "\n",
    "val_array = []\n",
    "for i in bitstr_dict.values():\n",
    "    val_array.append(i)\n",
    "val_array = np.array(val_array)\n",
    "#print(val_array)\n",
    "print(np.linalg.norm(val_array))\n",
    "fermi_state = fermi_state/np.linalg.norm(val_array)\n",
    "print(fermi_state)\n",
    "fermi_state.is_valid()"
   ]
  },
  {
   "cell_type": "code",
   "execution_count": 41,
   "metadata": {},
   "outputs": [],
   "source": [
    "from qiskit import QuantumCircuit\n",
    "import qiskit_aer \n",
    "from qiskit.quantum_info.states.random import random_statevector\n",
    "from qiskit.circuit.library import Initialize\n",
    "from qiskit.visualization import plot_bloch_multivector"
   ]
  },
  {
   "cell_type": "code",
   "execution_count": 42,
   "metadata": {},
   "outputs": [
    {
     "data": {
      "image/png": "[encoded data removed]",
      "text/plain": [
       "<Figure size 621.941x535.111 with 1 Axes>"
      ]
     },
     "execution_count": 42,
     "metadata": {},
     "output_type": "execute_result"
    }
   ],
   "source": [
    "qc = QuantumCircuit(num_qubits)\n",
    "qc.initialize(fermi_state)\n",
    "\n",
    "qc.draw(output = 'mpl')"
   ]
  },
  {
   "cell_type": "code",
   "execution_count": 47,
   "metadata": {},
   "outputs": [
    {
     "name": "stdout",
     "output_type": "stream",
     "text": [
      "True\n",
      "Overlap of Fermi Sea state with boundary wall: 0.013888888888888873\n",
      "Overlap of Fermi Sea state with ghz state: 0.0\n"
     ]
    }
   ],
   "source": [
    "# Let us compare fidelities with other states\n",
    "from qiskit.quantum_info import state_fidelity\n",
    "\n",
    "#Creating the other states\n",
    "sv_boundary = Statevector.from_label('000111')\n",
    "sv_ghz = (Statevector.from_label('++++++') + Statevector.from_label('------'))/np.sqrt(2)\n",
    "\n",
    "print(sv_ghz.is_valid())\n",
    "\n",
    "print('Overlap of Fermi Sea state with boundary wall:',state_fidelity(sv_boundary,fermi_state))\n",
    "print('Overlap of Fermi Sea state with ghz state:',state_fidelity(sv_ghz,fermi_state))"
   ]
  },
  {
   "cell_type": "code",
   "execution_count": 48,
   "metadata": {},
   "outputs": [
    {
     "name": "stdout",
     "output_type": "stream",
     "text": [
      "Overlap of Fermi Sea state with sv_3: 0.25\n"
     ]
    }
   ],
   "source": [
    "sv_3 = (Statevector.from_label('010101') + Statevector.from_label('101010'))/np.sqrt(2)\n",
    "print('Overlap of Fermi Sea state with sv_3:',state_fidelity(sv_3,fermi_state))"
   ]
  },
  {
   "cell_type": "markdown",
   "metadata": {},
   "source": [
    "## Fermi sea tests"
   ]
  },
  {
   "cell_type": "markdown",
   "metadata": {},
   "source": []
  }
 ],
 "metadata": {
  "kernelspec": {
   "display_name": "qiskitenv",
   "language": "python",
   "name": "python3"
  },
  "language_info": {
   "codemirror_mode": {
    "name": "ipython",
    "version": 3
   },
   "file_extension": ".py",
   "mimetype": "text/x-python",
   "name": "python",
   "nbconvert_exporter": "python",
   "pygments_lexer": "ipython3",
   "version": "3.12.3"
  }
 },
 "nbformat": 4,
 "nbformat_minor": 2
}
