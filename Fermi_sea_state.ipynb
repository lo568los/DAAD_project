{
 "cells": [
  {
   "cell_type": "markdown",
   "metadata": {},
   "source": [
    "## Here, we will write code to form the Filled fermi sea state\n"
   ]
  },
  {
   "cell_type": "code",
   "execution_count": 2,
   "metadata": {},
   "outputs": [
    {
     "name": "stdout",
     "output_type": "stream",
     "text": [
      "[ 0.43421011+0.41520328j -0.01982273-0.79917137j]\n",
      "[0.50427628-0.41218466j 0.75418697-0.08373325j]\n"
     ]
    },
    {
     "ename": "NameError",
     "evalue": "name 'execute' is not defined",
     "output_type": "error",
     "traceback": [
      "\u001b[0;31m---------------------------------------------------------------------------\u001b[0m",
      "\u001b[0;31mNameError\u001b[0m                                 Traceback (most recent call last)",
      "Cell \u001b[0;32mIn[2], line 30\u001b[0m\n\u001b[1;32m     27\u001b[0m qc\u001b[38;5;241m.\u001b[39mappend(init1, [\u001b[38;5;241m0\u001b[39m])\n\u001b[1;32m     28\u001b[0m qc\u001b[38;5;241m.\u001b[39mappend(init2, [\u001b[38;5;241m1\u001b[39m])\n\u001b[0;32m---> 30\u001b[0m plot_bloch_multivector(\u001b[43mviewstate\u001b[49m\u001b[43m(\u001b[49m\u001b[43mqc\u001b[49m\u001b[43m)\u001b[49m) \u001b[38;5;66;03m#Plot the state vectors on the bloch sphere\u001b[39;00m\n",
      "Cell \u001b[0;32mIn[2], line 19\u001b[0m, in \u001b[0;36mviewstate\u001b[0;34m(qc)\u001b[0m\n\u001b[1;32m     18\u001b[0m \u001b[38;5;28;01mdef\u001b[39;00m \u001b[38;5;21mviewstate\u001b[39m(qc):\n\u001b[0;32m---> 19\u001b[0m    result \u001b[38;5;241m=\u001b[39m \u001b[43mexecute\u001b[49m(qc, state_backend)\u001b[38;5;241m.\u001b[39mresult()\n\u001b[1;32m     20\u001b[0m    fstate \u001b[38;5;241m=\u001b[39m result\u001b[38;5;241m.\u001b[39mget_statevector()\n\u001b[1;32m     21\u001b[0m    \u001b[38;5;28mprint\u001b[39m(fstate) \u001b[38;5;66;03m# This will be the superposition state\u001b[39;00m\n",
      "\u001b[0;31mNameError\u001b[0m: name 'execute' is not defined"
     ]
    }
   ],
   "source": [
    "# Let u first understand how to writ coefficiens of a superposition state\n",
    "\n",
    "from qiskit import QuantumCircuit\n",
    "import qiskit_aer \n",
    "from qiskit.quantum_info.states.random import random_statevector\n",
    "from qiskit.circuit.library import Initialize\n",
    "from qiskit.visualization import plot_bloch_multivector\n",
    "\n",
    "state_backend = qiskit_aer.StatevectorSimulator()\n",
    "\n",
    "def initrstate(qc, label=\"\"):\n",
    "   state = random_statevector((2,1)).data\n",
    "   print(state) # if you want to see what state you have initialized the qubit to\n",
    "   init = Initialize(state)\n",
    "   init.label = label\n",
    "   return init\n",
    "\n",
    "def viewstate(qc):\n",
    "   result = execute(qc, state_backend).result()\n",
    "   fstate = result.get_statevector()\n",
    "   print(fstate) # This will be the superposition state\n",
    "   return fstate\n",
    "\n",
    "qc = QuantumCircuit(2)\n",
    "init1 = initrstate(qc)\n",
    "init2 = initrstate(qc)\n",
    "qc.append(init1, [0])\n",
    "qc.append(init2, [1])\n",
    "\n",
    "plot_bloch_multivector(viewstate(qc)) #Plot the state vectors on the bloch sphere\n"
   ]
  }
 ],
 "metadata": {
  "kernelspec": {
   "display_name": "qiskitenv",
   "language": "python",
   "name": "python3"
  },
  "language_info": {
   "codemirror_mode": {
    "name": "ipython",
    "version": 3
   },
   "file_extension": ".py",
   "mimetype": "text/x-python",
   "name": "python",
   "nbconvert_exporter": "python",
   "pygments_lexer": "ipython3",
   "version": "3.12.3"
  }
 },
 "nbformat": 4,
 "nbformat_minor": 2
}
