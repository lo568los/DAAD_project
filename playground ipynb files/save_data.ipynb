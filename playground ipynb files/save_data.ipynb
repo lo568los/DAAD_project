{
 "cells": [
  {
   "cell_type": "code",
   "execution_count": 1,
   "metadata": {},
   "outputs": [],
   "source": [
    "import numpy as np\n",
    "import matplotlib.pyplot as plt\n"
   ]
  },
  {
   "cell_type": "code",
   "execution_count": 2,
   "metadata": {},
   "outputs": [],
   "source": [
    "w = 0.4128"
   ]
  },
  {
   "cell_type": "code",
   "execution_count": 3,
   "metadata": {},
   "outputs": [],
   "source": [
    "def tk_col(theta,theta_k):\n",
    "    return 2*theta*np.cos(theta)*np.exp(-np.pi*np.sin(theta)/theta_k)\n",
    "\n",
    "def tk_col2(theta,theta_k):\n",
    "    return 0.5*np.sqrt(2)*np.sqrt(theta_k**2 + 4*theta**2 + np.sqrt(theta_k**4 + 16*theta**4))\n",
    "\n",
    "def tk_col3(theta_k):\n",
    "    return np.pi**2*w*theta_k**2"
   ]
  },
  {
   "cell_type": "code",
   "execution_count": 4,
   "metadata": {},
   "outputs": [],
   "source": [
    "## Let us save the data files first\n",
    "timeperiod_list_2 = [6.578,6.65,7.518,7.75,8.62,9.009,9.523,9.90]\n",
    "theta_k_list = [0.82, 0.72, 0.65, 0.62, 0.55,0.52, 0.45, 0.42]\n",
    "tb_list_2 = [1.2842714789941319, 2.1350051944625053, 3.765756475442498, 3.782382133548732, 3.1358344903939672, 2.7374421210675575, 2.35430104841159, 2.281386739337524]\n",
    "ocs_range_list_2 = [0.4502106775187934, 0.424273527949148, 0.3830991904490374, 0.34211000794741975, 0.6138751587076322, 0.4655614955995301, 0.5957478679491347, 0.6322598939394986]\n",
    "avg_list_2 = [-0.37167763405791293, -0.3624629615459037, -0.32694964468573007, -0.3352236792135639, -0.3859590936242538, -0.41107898401764126, -0.4577575550628137, -0.4787930651000909]"
   ]
  },
  {
   "cell_type": "code",
   "execution_count": 6,
   "metadata": {},
   "outputs": [],
   "source": [
    "data_tol_theta = np.column_stack((theta_k_list, timeperiod_list_2, tb_list_2, ocs_range_list_2, avg_list_2))\n",
    "string = f\"N = 6, theta = 1.07\"\n",
    "header_eig = string + \"\\n THETA_K|| TIMEPERIOD || TB || OCS_RANGE || AVG\"\n",
    "np.savetxt(\"data_tol_theta.txt\", data_tol_theta, fmt='%1.4f', header=header_eig)"
   ]
  },
  {
   "cell_type": "code",
   "execution_count": 7,
   "metadata": {},
   "outputs": [],
   "source": [
    "timeperiod_list_1 = [9.00900901,8.84955752,7.1942446,7.4626,8.13,9.345]\n",
    "theta_list = [1.07,0.97, 0.87, 0.77, 0.67, 0.57]\n",
    "tb_list_1 = [2.7374421210675575, 4.383910116928099, 10.534657792729185, 0.7404618797457969, 1.7250402016665316, 1.1849120757567615]\n",
    "ocs_range_list_1 = [0.4655614955995301, 0.5100305977788365, 0.2958101918657982, 0.16194626520602284, 0.27292407373402616, 0.40313114017158647]\n",
    "avg_list_1 = [-0.41107898401764126, -0.4691552363124108, -0.5844326880294426, -0.8156793042719312, -0.7505489556096574, -0.7331994971538661]"
   ]
  },
  {
   "cell_type": "code",
   "execution_count": 8,
   "metadata": {},
   "outputs": [],
   "source": [
    "data_tol_thetak = np.column_stack((theta_list, timeperiod_list_1, tb_list_1, ocs_range_list_1, avg_list_1))\n",
    "string = f\"N = 6, theta_k = 0.52\"\n",
    "header_eig = string + \"\\n THETA|| TIMEPERIOD || TB || OCS_RANGE || AVG\"\n",
    "np.savetxt(\"data_tol_thetak.txt\", data_tol_thetak, fmt='%1.4f', header=header_eig)"
   ]
  },
  {
   "cell_type": "code",
   "execution_count": null,
   "metadata": {},
   "outputs": [],
   "source": [
    "timeperiod_list1 = [9.00900901,8.84955752,7.1942446,7.4626,8.13,9.345]\n",
    "theta_list = [1.07,0.97, 0.87, 0.77, 0.67, 0.57]\n",
    "tb_list1 = [2.7374421210675575, 4.383910116928099, 10.534657792729185, 0.7404618797457969, 1.7250402016665316, 1.1849120757567615]\n",
    "ocs_range_list1 = [0.4655614955995301, 0.5100305977788365, 0.2958101918657982, 0.16194626520602284, 0.27292407373402616, 0.40313114017158647]\n",
    "avg_list1 = [-0.41107898401764126, -0.4691552363124108, -0.5844326880294426, -0.8156793042719312, -0.7505489556096574, -0.7331994971538661]"
   ]
  },
  {
   "cell_type": "code",
   "execution_count": null,
   "metadata": {},
   "outputs": [],
   "source": []
  }
 ],
 "metadata": {
  "kernelspec": {
   "display_name": "qiskitenv",
   "language": "python",
   "name": "python3"
  },
  "language_info": {
   "codemirror_mode": {
    "name": "ipython",
    "version": 3
   },
   "file_extension": ".py",
   "mimetype": "text/x-python",
   "name": "python",
   "nbconvert_exporter": "python",
   "pygments_lexer": "ipython3",
   "version": "3.12.3"
  }
 },
 "nbformat": 4,
 "nbformat_minor": 2
}
