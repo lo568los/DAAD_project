{
 "cells": [
  {
   "cell_type": "code",
   "execution_count": 2,
   "metadata": {},
   "outputs": [],
   "source": [
    "## For this, we do not need specialisied environment, we will use numpy, scipy and matplotlib\n",
    "\n",
    "import numpy as np\n",
    "import matplotlib.pyplot as plt\n",
    "\n",
    "from scipy import integrate"
   ]
  },
  {
   "cell_type": "code",
   "execution_count": 3,
   "metadata": {},
   "outputs": [],
   "source": [
    "#Universal constants\n",
    "\n",
    "w = 0.4128"
   ]
  },
  {
   "cell_type": "code",
   "execution_count": 4,
   "metadata": {},
   "outputs": [],
   "source": [
    "##let us define the functions to use. We will use a large \n",
    "\n",
    "def integrand(x, t, tb):\n",
    "    return np.sin(x*t)/(1 + (x**2)*(tb**2))\n",
    "\n",
    "\n",
    "def s(t,tk):\n",
    "    tb = w*np.pi*tk\n",
    "    I = integrate.quad(integrand, 0, np.inf, args = (t,tb))[0]\n",
    "    return I"
   ]
  },
  {
   "cell_type": "code",
   "execution_count": null,
   "metadata": {},
   "outputs": [],
   "source": [
    "# gamma_imp =    # depends on v_F somehow, have to find that relation\n",
    "tk = 3*gamma_imp/(w*(np.pi**2))"
   ]
  }
 ],
 "metadata": {
  "kernelspec": {
   "display_name": "qiskitenv",
   "language": "python",
   "name": "python3"
  },
  "language_info": {
   "codemirror_mode": {
    "name": "ipython",
    "version": 3
   },
   "file_extension": ".py",
   "mimetype": "text/x-python",
   "name": "python",
   "nbconvert_exporter": "python",
   "pygments_lexer": "ipython3",
   "version": "3.12.4"
  }
 },
 "nbformat": 4,
 "nbformat_minor": 2
}
