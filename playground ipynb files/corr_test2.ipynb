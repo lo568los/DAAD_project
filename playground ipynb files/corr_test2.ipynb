{
 "cells": [
  {
   "cell_type": "code",
   "execution_count": 1,
   "metadata": {},
   "outputs": [],
   "source": [
    "import qiskit\n",
    "import sys\n",
    "from qiskit.quantum_info import Statevector\n",
    "from qiskit import QuantumCircuit\n",
    "import qiskit_aer \n",
    "from qiskit.quantum_info import state_fidelity\n",
    "from qiskit_aer import AerSimulator\n",
    "#from qiskit import transpile\n",
    "#from qiskit.quantum_info.states.random import random_statevector\n",
    "#from qiskit.circuit.library import Initialize\n",
    "#from qiskit.visualization import plot_bloch_multivector\n",
    "import numpy as np\n",
    "from qiskit.quantum_info import partial_trace # To check later whether our derived density matrix is correct\n",
    "from qiskit.quantum_info import DensityMatrix\n",
    "from qiskit.quantum_info import purity\n",
    "from scipy import linalg as la\n",
    "\n",
    "\n",
    "from qiskit_aer.primitives import Sampler\n",
    "from qiskit_aer.primitives import Estimator\n",
    "from qiskit.quantum_info import SparsePauliOp\n",
    "from qiskit.quantum_info import Operator\n",
    "\n",
    "from itertools import combinations, cycle #Used for fermi state\n",
    "import math as m\n",
    "import cmath as cm\n",
    "\n",
    "from threading import Thread  ## For multithreading and paralell processing\n",
    "import time"
   ]
  },
  {
   "cell_type": "code",
   "execution_count": 2,
   "metadata": {},
   "outputs": [],
   "source": [
    "estimator = Estimator(approximation=True)"
   ]
  },
  {
   "cell_type": "code",
   "execution_count": 4,
   "metadata": {},
   "outputs": [],
   "source": [
    "N = 2\n",
    "num_qubits = 2*N + 1"
   ]
  },
  {
   "cell_type": "code",
   "execution_count": 15,
   "metadata": {},
   "outputs": [],
   "source": [
    "imp_op = SparsePauliOp('I'*N + 'Z' + 'I'*N)\n",
    "\n",
    "def ferm_mag(pos):\n",
    "    op1 = SparsePauliOp('I'*(N+pos) + 'Z' + 'I'*(N-pos))\n",
    "    op2 = SparsePauliOp('I'*(N-pos) + 'Z' + 'I'*(N+pos))\n",
    "\n",
    "    ferm_mag_op = 0.5*(op2 - op1)\n",
    "    #print(ferm_mag_op)\n",
    "    return ferm_mag_op\n",
    "\n",
    "def correlator_expectation2(pos,qc):\n",
    "    op1 = ferm_mag(pos)\n",
    "    corr_op = op1 @ imp_op\n",
    "    job = estimator.run(qc,corr_op,shots = None)\n",
    "    exp_vals = job.result().values[0].real\n",
    "    return exp_vals\n",
    "\n",
    "def reduced_corr(pos,qc):\n",
    "    op1 = ferm_mag(pos)\n",
    "    op2 = SparsePauliOp('I'*N + 'Z' + 'I'*N)\n",
    "    job1 = estimator.run(qc,op1,shots = None)\n",
    "    job2 = estimator.run(qc,op2,shots = None)\n",
    "    exp_vals1 = job1.result().values[0].real\n",
    "    exp_vals2 = job2.result().values[0].real\n",
    "    print(exp_vals1,exp_vals2)\n",
    "    exp_vals_red = exp_vals1*exp_vals2\n",
    "    return exp_vals_red\n",
    "\n",
    "def plot_correlator(qc,pos, corr_list):\n",
    "    exp_vals = correlator_expectation2(pos,qc)\n",
    "    exp_vals_red = reduced_corr(pos,qc)\n",
    "    final_vals = exp_vals - exp_vals_red\n",
    "    corr_list.append((final_vals.real,pos))"
   ]
  },
  {
   "cell_type": "code",
   "execution_count": 6,
   "metadata": {},
   "outputs": [
    {
     "data": {
      "image/png": "[encoded data removed]",
      "text/plain": [
       "<Figure size 203.885x451.5 with 1 Axes>"
      ]
     },
     "execution_count": 6,
     "metadata": {},
     "output_type": "execute_result"
    }
   ],
   "source": [
    "qc = QuantumCircuit(num_qubits)\n",
    "qc.x([0,1,2,4])\n",
    "\n",
    "qc.draw(output='mpl')"
   ]
  },
  {
   "cell_type": "code",
   "execution_count": 13,
   "metadata": {},
   "outputs": [
    {
     "name": "stdout",
     "output_type": "stream",
     "text": [
      "SparsePauliOp(['ZIIII', 'IIIIZ'],\n",
      "              coeffs=[ 0.5+0.j, -0.5+0.j])\n",
      "0.0\n"
     ]
    }
   ],
   "source": [
    "print(ferm_mag(2))\n",
    "print(correlator_expectation2(0,qc))"
   ]
  },
  {
   "cell_type": "code",
   "execution_count": 16,
   "metadata": {},
   "outputs": [
    {
     "name": "stdout",
     "output_type": "stream",
     "text": [
      "0.0 -1.0\n",
      "-0.0\n"
     ]
    }
   ],
   "source": [
    "print(reduced_corr(0,qc))"
   ]
  }
 ],
 "metadata": {
  "kernelspec": {
   "display_name": "qiskitenv",
   "language": "python",
   "name": "python3"
  },
  "language_info": {
   "codemirror_mode": {
    "name": "ipython",
    "version": 3
   },
   "file_extension": ".py",
   "mimetype": "text/x-python",
   "name": "python",
   "nbconvert_exporter": "python",
   "pygments_lexer": "ipython3",
   "version": "3.12.3"
  }
 },
 "nbformat": 4,
 "nbformat_minor": 2
}
